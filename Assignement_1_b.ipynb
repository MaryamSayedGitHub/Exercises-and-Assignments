{
  "cells": [
    {
      "cell_type": "markdown",
      "id": "b0e54bd3",
      "metadata": {
        "id": "b0e54bd3"
      },
      "source": [
        "## Question 1:\n",
        "Write a Python function called greet_user that takes two parameters: name (a string representing the user's name) and greeting (a string representing a greeting message). The function should print the personalized greeting message. If the greeting parameter is not provided, the function should use \"Hello\" as the default greeting.\n",
        "\n",
        "Expected Output:\n",
        "\n",
        "If the user's name is \"Alice\" and no specific greeting is provided, the function should print \"Hello, Alice!\".\n",
        "\n",
        "Please write the Python code for the greet_user function and demonstrate its usage with different examples, both with and without a specific greeting"
      ]
    },
    {
      "cell_type": "code",
      "execution_count": null,
      "id": "b692411b",
      "metadata": {
        "id": "b692411b"
      },
      "outputs": [],
      "source": [
        "def greet_user(name=\"\",message=\"\"):\n",
        "  if(name and message):\n",
        "     print(f\"Name:{name}, Message:{message}.\" )\n",
        "  elif (name):\n",
        "    print(f\"Hello,{name}!\")\n",
        "  else :\n",
        "    print(\"Wrong\")"
      ]
    },
    {
      "cell_type": "code",
      "execution_count": null,
      "id": "37d812aa",
      "metadata": {
        "colab": {
          "base_uri": "https://localhost:8080/"
        },
        "id": "37d812aa",
        "outputId": "51286576-ed7a-4396-bfa6-1d83081d94f6"
      },
      "outputs": [
        {
          "output_type": "stream",
          "name": "stdout",
          "text": [
            "Name:Alice, Message:you are smart.\n",
            "Hello,Alice!\n",
            "Wrong\n"
          ]
        }
      ],
      "source": [
        "greet_user(\"Alice\",\"you are smart\")\n",
        "greet_user(\"Alice\")\n",
        "greet_user()\n"
      ]
    },
    {
      "cell_type": "markdown",
      "id": "43a5f688",
      "metadata": {
        "id": "43a5f688"
      },
      "source": [
        "## Question 2:\n",
        "Write a Python program that takes two tuples as input, each containing integers, and returns a new tuple containing the element-wise sum of the corresponding elements from the input tuples. Assume the input tuples have the same length.\n",
        "\n",
        "Expected Output:\n",
        "\n",
        "If the input tuples are (1, 2, 3) and (4, 5, 6), the program should return (5, 7, 9).\n",
        "Please write the Python code to accomplish this task."
      ]
    },
    {
      "cell_type": "code",
      "execution_count": null,
      "id": "f2e4bd5e",
      "metadata": {
        "colab": {
          "base_uri": "https://localhost:8080/"
        },
        "id": "f2e4bd5e",
        "outputId": "d4ac9f68-1fb9-4341-8483-e86f15217272"
      },
      "outputs": [
        {
          "output_type": "execute_result",
          "data": {
            "text/plain": [
              "(5, 7, 9)"
            ]
          },
          "metadata": {},
          "execution_count": 11
        }
      ],
      "source": [
        "def sum_tuple(tuple1,tuple2):\n",
        "  new_tuple=()\n",
        "  for i1,i2 in zip(tuple1,tuple2):\n",
        "    sum=i1+i2\n",
        "    new_tuple=new_tuple+(sum,)\n",
        "  return new_tuple\n",
        "\n",
        "tuple1=(1, 2, 3)\n",
        "tuple2= (4, 5, 6)\n",
        "sum_tuple(tuple1,tuple2)\n"
      ]
    },
    {
      "cell_type": "markdown",
      "id": "eb50ce3a",
      "metadata": {
        "id": "eb50ce3a"
      },
      "source": [
        "## Question 3:\n",
        "Write a Python program that prompts the user to guess a secret number between 1 and 10. The program should continue to prompt the user for guesses until they correctly guess the secret number. Provide feedback to the user if their guess is too high or too low.\n",
        "\n",
        "Expected Output:\n",
        "\n",
        "If the secret number is 7 and the user's guesses are 5, 8, 7, the program should print:\n",
        "\n",
        "\"Too low! Try again.\"\n",
        "\n",
        "\"Too high! Try again.\"\n",
        "\n",
        "\"Congratulations! You guessed the secret number 7.\"\n",
        "\n",
        "Please write the Python code for this guessing game using a while loop."
      ]
    },
    {
      "cell_type": "code",
      "execution_count": 2,
      "id": "227d8033",
      "metadata": {
        "id": "227d8033",
        "colab": {
          "base_uri": "https://localhost:8080/"
        },
        "outputId": "326516f2-fd2b-4df9-a834-450c657b18cd"
      },
      "outputs": [
        {
          "output_type": "stream",
          "name": "stdout",
          "text": [
            "Generate a secret number between 1 and 10 Done.\n",
            "you have 3 trails .\n",
            "Guess the number: 5\n",
            "Too low!\n",
            "Guess the number: 8\n",
            "Congratulations! You guessed it!\n"
          ]
        }
      ],
      "source": [
        "import random\n",
        "secret_number = random.randint(1, 10)\n",
        "print(\"Generate a secret number between 1 and 10 Done.\")\n",
        "\n",
        "guess = None\n",
        "print(\"you have 3 trails .\")\n",
        "trails=0\n",
        "while guess != secret_number:\n",
        "    trails+=1\n",
        "    if(trails<=3):\n",
        "      guess = int(input(\"Guess the number: \"))\n",
        "      if guess < secret_number:\n",
        "          print(\"Too low!\")\n",
        "      elif guess > secret_number:\n",
        "          print(\"Too high!\")\n",
        "      else:\n",
        "          print(\"Congratulations! You guessed it!\")\n",
        "    else:\n",
        "      print(\"Better luck next time.\")\n",
        "\n",
        "\n",
        "# def get_input_guesses():\n",
        "#   user_guesses=[]\n",
        "#   n=int(input(\"enter the number of the guesses values Trials= \"))\n",
        "#   for x in range(n):\n",
        "#     input=int(input(\"enter the number of the guess values from [1 : 10] = \"))\n",
        "#     if ((input>=1) and (input<=10)):\n",
        "#         user_guesses.append(x)\n",
        "#   return user_guesses\n",
        "\n",
        "# def check(user_guesses,secret_number):\n",
        "#   for x in user_guesses:\n",
        "#     if (x==secret_number):\n",
        "#       res=f\"Congratulations! You guessed the secret number{x}.\"\n",
        "#       return res\n",
        "#     elif(x<secret_number):\n",
        "#       res=\"Too low! Try again.\"\n",
        "#       return res\n",
        "#     elif(x>secret_number):\n",
        "#       res=\"Too high! Try again.\"\n",
        "#       return res\n",
        "#     else:\n",
        "#       res=\"invalid!\"\n",
        "#       return res\n",
        "\n",
        "\n"
      ]
    },
    {
      "cell_type": "code",
      "execution_count": null,
      "id": "3d36701b",
      "metadata": {
        "id": "3d36701b"
      },
      "outputs": [],
      "source": []
    },
    {
      "cell_type": "markdown",
      "id": "e3c169ff",
      "metadata": {
        "id": "e3c169ff"
      },
      "source": [
        "## Question 4:\n",
        "Write a Python program that takes a list of words as input and creates a dictionary where the keys are the unique words in the list, and the values are lists containing the indices (positions) at which each word appears in the list.\n",
        "\n",
        "Expected Output:\n",
        "\n",
        "If the input list is [\"apple\", \"banana\", \"orange\", \"banana\", \"kiwi\", \"apple\"], the program should return {'apple': [0,5], 'banana': [1,3], 'orange': [2], 'kiwi': [4]}.\n",
        "Please write the Python code to accomplish this task."
      ]
    },
    {
      "cell_type": "code",
      "execution_count": null,
      "id": "2ea6eb25",
      "metadata": {
        "id": "2ea6eb25"
      },
      "outputs": [],
      "source": []
    },
    {
      "cell_type": "code",
      "execution_count": 9,
      "id": "c1f00882",
      "metadata": {
        "id": "c1f00882",
        "colab": {
          "base_uri": "https://localhost:8080/"
        },
        "outputId": "6f2fa7ea-0610-42f9-9e58-e4eb8ed9cdce"
      },
      "outputs": [
        {
          "output_type": "stream",
          "name": "stdout",
          "text": [
            "{'apple': [0, 5], 'banana': [1, 3], 'orange': [2], 'kiwi': [4]}\n"
          ]
        }
      ],
      "source": [
        "def word_indices(word_list):\n",
        "    # Dictionary to store words as keys and their indices as values\n",
        "    word_dict = {}\n",
        "\n",
        "    for index, word in enumerate(word_list):\n",
        "        if word not in word_dict:\n",
        "            word_dict[word] = []\n",
        "        word_dict[word].append(index)\n",
        "\n",
        "    return word_dict\n",
        "\n",
        "# Example input list\n",
        "words = [\"apple\", \"banana\", \"orange\", \"banana\", \"kiwi\", \"apple\"]\n",
        "# Generate the dictionary\n",
        "result = word_indices(words)\n",
        "print(result)"
      ]
    },
    {
      "cell_type": "code",
      "execution_count": null,
      "id": "e3d64d4a",
      "metadata": {
        "id": "e3d64d4a"
      },
      "outputs": [],
      "source": []
    }
  ],
  "metadata": {
    "kernelspec": {
      "display_name": "Python 3 (ipykernel)",
      "language": "python",
      "name": "python3"
    },
    "language_info": {
      "codemirror_mode": {
        "name": "ipython",
        "version": 3
      },
      "file_extension": ".py",
      "mimetype": "text/x-python",
      "name": "python",
      "nbconvert_exporter": "python",
      "pygments_lexer": "ipython3",
      "version": "3.12.7"
    },
    "colab": {
      "provenance": []
    }
  },
  "nbformat": 4,
  "nbformat_minor": 5
}