{
  "cells": [
    {
      "cell_type": "markdown",
      "metadata": {
        "id": "GzMoKlPu7GTJ"
      },
      "source": [
        "## Python Task 3"
      ]
    },
    {
      "cell_type": "markdown",
      "metadata": {
        "id": "KiJSvAcj7GTL"
      },
      "source": [
        "### Question: Count Vowels in a String\n",
        "\n",
        "**Description:** Write a function named count_vowels that takes a string as an argument and returns the count of vowels (a, e, i, o, u) in the string.\n",
        "\n",
        "The function should be case-insensitive, counting both uppercase and lowercase vowels.\n"
      ]
    },
    {
      "cell_type": "code",
      "execution_count": 2,
      "metadata": {
        "id": "blDNJma17GTM"
      },
      "outputs": [],
      "source": [
        "'''\n",
        "# Example Input:\n",
        "text = \"Hello World\"\n",
        "# Expected Output:\n",
        "3\n",
        "'''\n",
        ""
      ]
    },
    {
      "cell_type": "code",
      "execution_count": 3,
      "metadata": {
        "colab": {
          "base_uri": "https://localhost:8080/"
        },
        "id": "T_OLYGkV7GTN",
        "outputId": "5e21da4b-92aa-4812-9148-d114dbf10fef"
      },
      "outputs": [
        {
          "output_type": "execute_result",
          "data": {
            "text/plain": [
              "3"
            ]
          },
          "metadata": {},
          "execution_count": 3
        }
      ],
      "source": [
        "def count_vowelss(input_str):\n",
        "  count=0\n",
        "  vowels=['a','A','e','E','i','I','o','O','U','u']\n",
        "  for s in input_str:\n",
        "     for x in vowels:\n",
        "       if s==x:\n",
        "         count+=1\n",
        "\n",
        "  return count\n",
        "count_vowelss(\"Hello World\")"
      ]
    },
    {
      "cell_type": "markdown",
      "metadata": {
        "id": "r7wKi98U7GTN"
      },
      "source": [
        "### Question: Find the Maximum Value in a List Using a Function\n",
        "Description: Write a function named find_max that takes a list of integers as an argument and returns the maximum value in the list.\n",
        "\n",
        "Do not use Python’s built-in max() function. The function should handle cases where the list is empty by returning None.\n"
      ]
    },
    {
      "cell_type": "code",
      "execution_count": null,
      "metadata": {
        "id": "xlC_HhAd7GTZ"
      },
      "outputs": [],
      "source": [
        "'''\n",
        "# Example Input:\n",
        "numbers = [3, 5, 2, 8, 1]\n",
        "# Expected Output:\n",
        "8\n",
        "'''\n"
      ]
    },
    {
      "cell_type": "code",
      "execution_count": 4,
      "metadata": {
        "colab": {
          "base_uri": "https://localhost:8080/"
        },
        "id": "Zq4_RvzL7GTa",
        "outputId": "13a6bd93-0e42-48ec-bd75-4988138f3d6b"
      },
      "outputs": [
        {
          "output_type": "stream",
          "name": "stdout",
          "text": [
            "8\n"
          ]
        }
      ],
      "source": [
        "def find_max(List_input):\n",
        "  max=List_input[0]\n",
        "  for x in List_input:\n",
        "    if(x>max):\n",
        "      max=x\n",
        "  return max\n",
        "\n",
        "numbers = [3, 5, 2, 8, 1]\n",
        "print(find_max(numbers))"
      ]
    }
  ],
  "metadata": {
    "kernelspec": {
      "display_name": "Python 3 (ipykernel)",
      "language": "python",
      "name": "python3"
    },
    "language_info": {
      "codemirror_mode": {
        "name": "ipython",
        "version": 3
      },
      "file_extension": ".py",
      "mimetype": "text/x-python",
      "name": "python",
      "nbconvert_exporter": "python",
      "pygments_lexer": "ipython3",
      "version": "3.12.7"
    },
    "colab": {
      "provenance": []
    }
  },
  "nbformat": 4,
  "nbformat_minor": 0
}